{
 "cells": [
  {
   "cell_type": "code",
   "execution_count": 1,
   "metadata": {},
   "outputs": [
    {
     "name": "stderr",
     "output_type": "stream",
     "text": [
      "/Users/gwenchee/anaconda3/lib/python3.6/importlib/_bootstrap.py:219: QAWarning: pyne.data is not yet QA compliant.\n",
      "  return f(*args, **kwds)\n",
      "/Users/gwenchee/anaconda3/lib/python3.6/importlib/_bootstrap.py:219: QAWarning: pyne.material is not yet QA compliant.\n",
      "  return f(*args, **kwds)\n"
     ]
    }
   ],
   "source": [
    "import pandas as pd\n",
    "from pyne.material import Material as m\n",
    "from pyne import nucname\n",
    "import numpy as np"
   ]
  },
  {
   "cell_type": "code",
   "execution_count": 2,
   "metadata": {},
   "outputs": [],
   "source": [
    "names = [\n",
    "        'assembly_id',\n",
    "        'reactor_id',\n",
    "        'reactor_type',\n",
    "        'initial_uranium_kg',\n",
    "        'initial_enrichment',\n",
    "        'discharge_burnup',\n",
    "        'discharge_date',\n",
    "        'discharge_time',\n",
    "        'total_assembly_decay_heat_kw',\n",
    "        'name',\n",
    "        'evaluation_date',\n",
    "        'total_mass_g',\n",
    "        'total_radioactivity_curies']\n",
    "df = pd.read_csv('SNF_nuclide_2020_07_01.dat',\n",
    "                 sep='\\s+',\n",
    "                 index_col=False,\n",
    "                 names=names)"
   ]
  },
  {
   "cell_type": "code",
   "execution_count": 3,
   "metadata": {},
   "outputs": [],
   "source": [
    "keep = df[['assembly_id','reactor_id','reactor_type','discharge_date','total_assembly_decay_heat_kw','name','total_mass_g']]"
   ]
  },
  {
   "cell_type": "code",
   "execution_count": 4,
   "metadata": {},
   "outputs": [],
   "source": [
    "#BWRs \n",
    "BWR = keep.loc[keep['reactor_type'] == 'BWR']\n",
    "# keep first BWR \n",
    "BWR_1 = keep.loc[keep['reactor_id'] == 122]\n",
    "# keep first assembly\n",
    "BWR_2 = keep.loc[keep['assembly_id'] == 254897]\n",
    "heat = keep.groupby((df[\"assembly_id\"] != df[\"assembly_id\"].shift()).cumsum().values).first()\n",
    "heat = heat[['assembly_id','total_assembly_decay_heat_kw']]"
   ]
  },
  {
   "cell_type": "code",
   "execution_count": 5,
   "metadata": {},
   "outputs": [],
   "source": [
    "def decay_assembly(assembly_id): \n",
    "    assem = keep.loc[keep['assembly_id'] == assembly_id]\n",
    "    compdict = {}\n",
    "    for index, row in assem.iterrows():\n",
    "        if row['assembly_id'] == assembly_id: \n",
    "            nuc = row['name']\n",
    "            mass = row['total_mass_g']\n",
    "            if nuc == 'ag-108m' or nuc == 'am-242m' or nuc == 'ag-110m': # meta stable nucs dont work?\n",
    "                compdict = compdict \n",
    "            else:\n",
    "                compdict[nucname.id(nuc)] = mass\n",
    "    new_m = m(compdict,mass = -1)\n",
    "    decayheat = new_m.decay_heat()\n",
    "    decayheat_total = 0\n",
    "    for key,val in decayheat.items(): \n",
    "        decayheat_total += val*10**3\n",
    "    \n",
    "    return decayheat_total "
   ]
  },
  {
   "cell_type": "code",
   "execution_count": null,
   "metadata": {},
   "outputs": [],
   "source": [
    "n = 244887\n",
    "newheat = heat.head(n)\n",
    "calc_heat = np.zeros(n)\n",
    "perc_diff = np.zeros(n)\n",
    "i = 0\n",
    "for index, row in newheat.iterrows():\n",
    "    calc_heat[i] = decay_assembly(row['assembly_id'])\n",
    "    perc_diff[i] = calc_heat[i]/row['total_assembly_decay_heat_kw']*100\n",
    "    i +=1\n",
    "newheat['calc_heat'] = calc_heat\n",
    "newheat['perc_diff'] = perc_diff"
   ]
  },
  {
   "cell_type": "code",
   "execution_count": null,
   "metadata": {},
   "outputs": [],
   "source": [
    "newheat"
   ]
  },
  {
   "cell_type": "code",
   "execution_count": null,
   "metadata": {},
   "outputs": [],
   "source": [
    "# To store once created\n",
    "newheat.to_pickle(decayheat)"
   ]
  },
  {
   "cell_type": "code",
   "execution_count": null,
   "metadata": {},
   "outputs": [],
   "source": [
    "# To load picked files into this notebook\n",
    "newheat = pd.read_pickle(decayheat)"
   ]
  }
 ],
 "metadata": {
  "kernelspec": {
   "display_name": "Python 3",
   "language": "python",
   "name": "python3"
  },
  "language_info": {
   "codemirror_mode": {
    "name": "ipython",
    "version": 3
   },
   "file_extension": ".py",
   "mimetype": "text/x-python",
   "name": "python",
   "nbconvert_exporter": "python",
   "pygments_lexer": "ipython3",
   "version": "3.6.4"
  }
 },
 "nbformat": 4,
 "nbformat_minor": 2
}
