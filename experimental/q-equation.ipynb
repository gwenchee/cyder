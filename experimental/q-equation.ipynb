{
 "cells": [
  {
   "cell_type": "code",
   "execution_count": 1,
   "metadata": {},
   "outputs": [
    {
     "name": "stderr",
     "output_type": "stream",
     "text": [
      "/Users/gwenchee/anaconda3/lib/python3.6/importlib/_bootstrap.py:219: QAWarning: pyne.data is not yet QA compliant.\n",
      "  return f(*args, **kwds)\n",
      "/Users/gwenchee/anaconda3/lib/python3.6/importlib/_bootstrap.py:219: QAWarning: pyne.material is not yet QA compliant.\n",
      "  return f(*args, **kwds)\n"
     ]
    }
   ],
   "source": [
    "import pandas as pd\n",
    "from pyne.material import Material as m\n",
    "from pyne import nucname\n",
    "import numpy as np\n",
    "from matplotlib import pyplot as plt\n",
    "from scipy.optimize import curve_fit\n",
    "from sympy import *\n",
    "from scipy import special as s \n",
    "import scipy.integrate\n",
    "import decayheatfn as dh"
   ]
  },
  {
   "cell_type": "code",
   "execution_count": 2,
   "metadata": {},
   "outputs": [],
   "source": [
    "data = dh.get_dataframe('SNF_nuclide_2020_07_01.dat')"
   ]
  },
  {
   "cell_type": "code",
   "execution_count": 3,
   "metadata": {},
   "outputs": [
    {
     "data": {
      "text/plain": [
       "45.411773026605"
      ]
     },
     "execution_count": 3,
     "metadata": {},
     "output_type": "execute_result"
    }
   ],
   "source": [
    "dh.decay_assembly(254897,data)"
   ]
  },
  {
   "cell_type": "code",
   "execution_count": 4,
   "metadata": {},
   "outputs": [
    {
     "data": {
      "image/png": "[encoded data removed]",
      "text/plain": [
       "<matplotlib.figure.Figure at 0x1203f70b8>"
      ]
     },
     "metadata": {},
     "output_type": "display_data"
    }
   ],
   "source": [
    "t,Q = dh.get_q(254897,1000,data)\n",
    "t_new,Q_new,Qcoeffs = dh.q_poly(6,t,Q)\n",
    "dh.plot_q(t,Q,t_new,Q_new,6)"
   ]
  },
  {
   "cell_type": "markdown",
   "metadata": {},
   "source": [
    "# Q Equation for all assemblies\n",
    "Goal: to see the range of decay heat values"
   ]
  },
  {
   "cell_type": "code",
   "execution_count": null,
   "metadata": {},
   "outputs": [],
   "source": [
    "assemblies_100 = data.drop_duplicates(subset='assembly_id')[0:100]\n",
    "for i in range(1000): \n",
    "    assemblyid = assemblies_100['assembly_id'].iloc[i]\n",
    "    t,Q = dh.get_q(assemblyid,1000,data)\n",
    "    plt.plot(t,Q) "
   ]
  },
  {
   "cell_type": "code",
   "execution_count": null,
   "metadata": {},
   "outputs": [],
   "source": [
    "assemblies_100['assembly_id'].iloc[1]"
   ]
  },
  {
   "cell_type": "markdown",
   "metadata": {},
   "source": [
    "# Temperature Numerical Calculations\n",
    "Now that we have the Q equation, we can use it in the temperature numerical calculation "
   ]
  },
  {
   "cell_type": "code",
   "execution_count": 5,
   "metadata": {},
   "outputs": [],
   "source": [
    "# Constants \n",
    "\n",
    "# Granite \n",
    "k_g = 2.5 #W/m*K\n",
    "a_g = 1.13*10**-6 #m2/s\n",
    "\n",
    "# Length of Canister \n",
    "L = 5 #m \n",
    "# Canister Spacing \n",
    "CS = 10 #m\n",
    "# Drift spacing \n",
    "DS = 20 #m \n",
    "# Length of Drift \n",
    "\n",
    "# Decay heat from 4 BWR assembly (sample)\n",
    "q0 = 4*0.060320*10**3#W "
   ]
  },
  {
   "cell_type": "code",
   "execution_count": 6,
   "metadata": {},
   "outputs": [],
   "source": [
    "# Temperature Functions \n",
    "\n",
    "def Tline(x,y,z,t,a,k,L,num,poly):\n",
    "    \"\"\" This function returns the contribution for Tline\n",
    "    INPUT Parameters:\n",
    "        x,y,z : coordinate of interest (0,0,0) refers to the midpoint of the canister\n",
    "        t: time in the simulation in months [months]\n",
    "        a: thermal diffusivity of repository material [m^2/s]\n",
    "        L: length of canister [m]\n",
    "        num: number of assemblies in the canister \n",
    "        poly: symbolic polynomial function for the q equation\n",
    "        NOTE: when poly is updated for q equation of a canister, the num constant can be removed \n",
    "    returns \n",
    "    T = Tline contribution in K \n",
    "    \"\"\"\n",
    "    mtos = 60 * 60 * 24 * 30\n",
    "    t =  t * mtos \n",
    "    Tfunc = lambda tp: (num*poly(tp/mtos)/L)/(t-tp)*exp(-(x**2+z**2)/(4*a*(t-tp)))*(erf(0.5*(y+L/2)/sqrt(a*(t-tp))) - erf(0.5*(y-L/2)/sqrt(a*(t-tp))))\n",
    "    T = 1/(8*np.pi*k)*scipy.integrate.quad(Tfunc,0,t)[0] #K\n",
    "    return T\n",
    "\n",
    "def Tpoint(x,y,t,a,k,num,poly):\n",
    "    mtos = 60 * 60 * 24 * 30\n",
    "    t =  t * mtos \n",
    "    r = np.sqrt(x**2+y**2)\n",
    "    Tfunc = lambda tp: (num*poly(tp/mtos)/(t-tp)**(3/2))*exp(-r**2/(4*a*(t-tp)))\n",
    "    T = 1/(8*k*sqrt(a)*np.pi**(3/2))*scipy.integrate.quad(Tfunc,0,t)[0] #K\n",
    "    return T\n",
    "\n",
    "def Tinfline(x,z,t,a,k,num,poly):\n",
    "    mtos = 60 * 60 * 24 * 30\n",
    "    t =  t * mtos \n",
    "    Tfunc = lambda tp: num*poly(tp/mtos)/(t-tp)*exp(-(x**2+z**2)/(4*a*(t-tp)))\n",
    "    T = 1/(4*np.pi*k)*scipy.integrate.quad(Tfunc,0,t)[0] #K\n",
    "    return T"
   ]
  },
  {
   "cell_type": "code",
   "execution_count": 8,
   "metadata": {},
   "outputs": [],
   "source": [
    "# build symbolic polynomial function\n",
    "poly1 = np.poly1d(Qcoeffs,variable='tp')"
   ]
  },
  {
   "cell_type": "code",
   "execution_count": 9,
   "metadata": {},
   "outputs": [],
   "source": [
    "# dummy constants\n",
    "x1 = 0.1\n",
    "z1 = 0\n",
    "a1 = a_g\n",
    "t1 = 1\n",
    "y1 = 2.5\n",
    "L1 = 5\n",
    "r1 = x1\n",
    "num1 = 10 # no. of assemblies in canister"
   ]
  },
  {
   "cell_type": "code",
   "execution_count": 10,
   "metadata": {},
   "outputs": [
    {
     "name": "stdout",
     "output_type": "stream",
     "text": [
      "8.962513696668411\n"
     ]
    }
   ],
   "source": [
    "# Temperature of placing the first canister \n",
    "Tline1 = Tline(x1,y1,z1,t1,a1,k_g,L1,num1,poly1)\n",
    "print(Tline1)"
   ]
  },
  {
   "cell_type": "code",
   "execution_count": 11,
   "metadata": {},
   "outputs": [
    {
     "name": "stdout",
     "output_type": "stream",
     "text": [
      "8.962513696668411\n",
      "0.00358282787001716\n"
     ]
    }
   ],
   "source": [
    "# Temperature of placing the second canister \n",
    "Tline2 = Tline(x1,y1,z1,t1,a1,k_g,L1,num1,poly1)\n",
    "Tpoint2 = Tpoint(x1,y1+L,t1,a1,k_g,num1,poly1)\n",
    "print(Tline2)\n",
    "print(Tpoint2)"
   ]
  },
  {
   "cell_type": "code",
   "execution_count": 12,
   "metadata": {},
   "outputs": [
    {
     "name": "stdout",
     "output_type": "stream",
     "text": [
      "8.962513696668411\n",
      "0.00358282787001716\n",
      "2.66566136855916e-7\n"
     ]
    }
   ],
   "source": [
    "# Temperature of placing the 3rd canister \n",
    "Tline3 = Tline(x1,y1,z1,t1,a1,k_g,L1,num1,poly1)\n",
    "Tpoint31 = Tpoint(x1,y1+L,t1,a1,k_g,num1,poly1)\n",
    "Tpoint32 = Tpoint(x1,y1+2*L,t1,a1,k_g,num1,poly1)\n",
    "print(Tline3)\n",
    "print(Tpoint31)\n",
    "print(Tpoint32)"
   ]
  },
  {
   "cell_type": "code",
   "execution_count": 13,
   "metadata": {},
   "outputs": [
    {
     "name": "stdout",
     "output_type": "stream",
     "text": [
      "8.962513696668411\n",
      "0.00358282787001716\n",
      "0.0023804778800360226\n"
     ]
    }
   ],
   "source": [
    "# Temperature of placing a second canister in the second drift\n",
    "Tline2 = Tline(x1,y1,z1,t1,a1,k_g,L1,num1,poly1)\n",
    "Tpoint2 = Tpoint(x1,y1+L,t1,a1,k_g,num1,poly1)\n",
    "Tinf2 = Tinfline(x1+10,z1,t1,a1,k_g,100,poly1)\n",
    "print(Tline2)\n",
    "print(Tpoint2)\n",
    "print(Tinf2)"
   ]
  },
  {
   "cell_type": "code",
   "execution_count": null,
   "metadata": {},
   "outputs": [],
   "source": []
  }
 ],
 "metadata": {
  "kernelspec": {
   "display_name": "Python 3",
   "language": "python",
   "name": "python3"
  },
  "language_info": {
   "codemirror_mode": {
    "name": "ipython",
    "version": 3
   },
   "file_extension": ".py",
   "mimetype": "text/x-python",
   "name": "python",
   "nbconvert_exporter": "python",
   "pygments_lexer": "ipython3",
   "version": "3.6.4"
  }
 },
 "nbformat": 4,
 "nbformat_minor": 2
}
