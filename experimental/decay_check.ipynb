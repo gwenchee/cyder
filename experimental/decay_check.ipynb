{
 "cells": [
  {
   "cell_type": "code",
   "execution_count": 102,
   "metadata": {},
   "outputs": [],
   "source": [
    "import pandas as pd\n",
    "from pyne.material import Material as m\n",
    "from pyne import nucname\n",
    "import numpy as np\n",
    "from matplotlib import pyplot as plt\n",
    "from scipy import constants as c"
   ]
  },
  {
   "cell_type": "code",
   "execution_count": 58,
   "metadata": {},
   "outputs": [],
   "source": [
    "def test_decay(element,halflife,time): \n",
    "    \"\"\"This function checks if decay is working correctly in pyne\n",
    "    Input: \n",
    "    element: element name as a string ('u-235',etc.)\n",
    "    halflife: half-life of element in years or seconds \n",
    "    time: type of timespan halflife was entered in \n",
    "    \"\"\"\n",
    "    original = m({element:1})\n",
    "    if time == 'y': \n",
    "        half_life = halflife*31556952\n",
    "    elif time == 'mon': \n",
    "        half_life = halflife*2592000\n",
    "    elif time == 'd':\n",
    "        half_life = halflife*24*60*60\n",
    "    elif time == 'h': \n",
    "        half_life = halflife*60*60\n",
    "    elif time == 'min':\n",
    "        half_life = halflife*60\n",
    "    elif time == 's':\n",
    "        half_life = halflife\n",
    "    new_mass = original.decay(half_life)[nucname.id(element)]\n",
    "    return new_mass"
   ]
  },
  {
   "cell_type": "code",
   "execution_count": 52,
   "metadata": {},
   "outputs": [
    {
     "data": {
      "text/plain": [
       "0.500105584031842"
      ]
     },
     "execution_count": 52,
     "metadata": {},
     "output_type": "execute_result"
    }
   ],
   "source": [
    "test_decay('u-235',703800000,'y')"
   ]
  },
  {
   "cell_type": "code",
   "execution_count": 53,
   "metadata": {},
   "outputs": [
    {
     "data": {
      "text/plain": [
       "0.500007116551472"
      ]
     },
     "execution_count": 53,
     "metadata": {},
     "output_type": "execute_result"
    }
   ],
   "source": [
    "test_decay('pu-238',87.7,'y')"
   ]
  },
  {
   "cell_type": "code",
   "execution_count": 51,
   "metadata": {},
   "outputs": [
    {
     "data": {
      "text/plain": [
       "0.5017490146084304"
      ]
     },
     "execution_count": 51,
     "metadata": {},
     "output_type": "execute_result"
    }
   ],
   "source": [
    "test_decay('ag-108',2.37,'min')"
   ]
  },
  {
   "cell_type": "code",
   "execution_count": 54,
   "metadata": {},
   "outputs": [
    {
     "data": {
      "text/plain": [
       "0.51608539073202"
      ]
     },
     "execution_count": 54,
     "metadata": {},
     "output_type": "execute_result"
    }
   ],
   "source": [
    "test_decay('ag-108m',418,'y')"
   ]
  },
  {
   "cell_type": "code",
   "execution_count": 55,
   "metadata": {},
   "outputs": [
    {
     "data": {
      "text/plain": [
       "0.49943586638488346"
      ]
     },
     "execution_count": 55,
     "metadata": {},
     "output_type": "execute_result"
    }
   ],
   "source": [
    "test_decay('ag-110',24.6,'s')"
   ]
  },
  {
   "cell_type": "code",
   "execution_count": 56,
   "metadata": {},
   "outputs": [
    {
     "data": {
      "text/plain": [
       "0.4998335591867645"
      ]
     },
     "execution_count": 56,
     "metadata": {},
     "output_type": "execute_result"
    }
   ],
   "source": [
    "test_decay('ag-110m',249.950,'d')"
   ]
  },
  {
   "cell_type": "code",
   "execution_count": 59,
   "metadata": {},
   "outputs": [
    {
     "data": {
      "text/plain": [
       "0.49999999999999994"
      ]
     },
     "execution_count": 59,
     "metadata": {},
     "output_type": "execute_result"
    }
   ],
   "source": [
    "test_decay('am-242',16.02,'h')"
   ]
  },
  {
   "cell_type": "code",
   "execution_count": 60,
   "metadata": {},
   "outputs": [
    {
     "data": {
      "text/plain": [
       "0.5000071165514718"
      ]
     },
     "execution_count": 60,
     "metadata": {},
     "output_type": "execute_result"
    }
   ],
   "source": [
    "test_decay('am-242m',141,'y')"
   ]
  },
  {
   "cell_type": "markdown",
   "metadata": {},
   "source": [
    "### Since the metastable elements give 0.5 when their half-life is given, it is concluded that the decay function in pyne works correctly. \n",
    "\n",
    "Now we move on to investigate decay heat:"
   ]
  },
  {
   "cell_type": "code",
   "execution_count": 91,
   "metadata": {},
   "outputs": [],
   "source": [
    "def test_decayheat(element): \n",
    "    \"\"\"This function checks if decay is working correctly in pyne\n",
    "    Input: \n",
    "    element: element name as a string ('u-235',etc.)\n",
    "    halflife: half-life of element in years or seconds \n",
    "    time: type of timespan halflife was entered in \n",
    "    \"\"\"\n",
    "    original = m({element:1}) #1 gram\n",
    "    decayheat = original.decay_heat()\n",
    "    decayheat[nucname.id(element)]*= 10**6\n",
    "    return decayheat #W"
   ]
  },
  {
   "cell_type": "code",
   "execution_count": 175,
   "metadata": {},
   "outputs": [],
   "source": [
    "def calc_decayheat(E,halflife,molarmass):\n",
    "    \"\"\"This function gives the decay heat of an isotope\n",
    "    Input: \n",
    "    E: decay energy in MeV \n",
    "    halflife: half life in years \n",
    "    molarmass: molar mass in g/mol\n",
    "    \"\"\"\n",
    "    E_J = E * 1.60218*10**-13 #J\n",
    "    lam = np.log(2)/(halflife*31556952) #/s\n",
    "    A = lam*c.Avogadro\n",
    "    decayheat = E_J*A/molarmass #W\n",
    "    return decayheat #W"
   ]
  },
  {
   "cell_type": "code",
   "execution_count": 157,
   "metadata": {},
   "outputs": [
    {
     "name": "stdout",
     "output_type": "stream",
     "text": [
      "{270600000: 17.448076176929398}\n",
      "18.7667380933\n"
     ]
    }
   ],
   "source": [
    "# Co 60 \n",
    "print(test_decayheat('co-60'))\n",
    "print(calc_decayheat(2.8,5.27,60))"
   ]
  },
  {
   "cell_type": "code",
   "execution_count": 156,
   "metadata": {},
   "outputs": [
    {
     "name": "stdout",
     "output_type": "stream",
     "text": [
      "{942380000: 0.5675515566978637}\n",
      "0.567766373532\n"
     ]
    }
   ],
   "source": [
    "# Pu 238 \n",
    "print(test_decayheat('pu-238'))\n",
    "print(calc_decayheat(5.593,87.7,238.05))"
   ]
  },
  {
   "cell_type": "code",
   "execution_count": 158,
   "metadata": {},
   "outputs": [
    {
     "name": "stdout",
     "output_type": "stream",
     "text": [
      "{551370000: 0.09674686119219625}\n",
      "0.262522608552\n"
     ]
    }
   ],
   "source": [
    "# Cs 137 Wiki: 0.6 \n",
    "print(test_decayheat('cs-137'))\n",
    "print(calc_decayheat(0.5120,30.17,137))"
   ]
  },
  {
   "cell_type": "code",
   "execution_count": 159,
   "metadata": {},
   "outputs": [
    {
     "name": "stdout",
     "output_type": "stream",
     "text": [
      "{952410000: 0.11439527778221835}\n",
      "0.111621184146\n"
     ]
    }
   ],
   "source": [
    "# Am 241 \n",
    "print(test_decayheat('am-241'))\n",
    "print(calc_decayheat(5.486,432.2,241))"
   ]
  },
  {
   "cell_type": "code",
   "execution_count": 161,
   "metadata": {},
   "outputs": [
    {
     "name": "stdout",
     "output_type": "stream",
     "text": [
      "{380900000: 0.16047233692824972}\n",
      "0.448217709058\n"
     ]
    }
   ],
   "source": [
    "# Sr 90 Wiki:0.9\n",
    "print(test_decayheat('Sr-90'))\n",
    "print(calc_decayheat(0.548,28.79,90))"
   ]
  },
  {
   "cell_type": "code",
   "execution_count": 162,
   "metadata": {},
   "outputs": [
    {
     "name": "stdout",
     "output_type": "stream",
     "text": [
      "{882260000: 0.02855044187635713}\n",
      "0.028015095169\n"
     ]
    }
   ],
   "source": [
    "# Ra 226\n",
    "print(test_decayheat('ra-226'))\n",
    "print(calc_decayheat(4.78,1600,226))"
   ]
  },
  {
   "cell_type": "code",
   "execution_count": 164,
   "metadata": {},
   "outputs": [
    {
     "name": "stdout",
     "output_type": "stream",
     "text": [
      "{471080001: 8.449741636983318e+17}\n",
      "0.00513769920787\n"
     ]
    }
   ],
   "source": [
    "# Ag 108m \n",
    "print(test_decayheat('ag-108m'))\n",
    "print(calc_decayheat(109.44*10**-3,418,108))"
   ]
  },
  {
   "cell_type": "code",
   "execution_count": 169,
   "metadata": {},
   "outputs": [
    {
     "name": "stdout",
     "output_type": "stream",
     "text": [
      "{471100001: 2593526737465715.0}\n",
      "3.31045370794\n"
     ]
    }
   ],
   "source": [
    "# Ag 110m \n",
    "print(test_decayheat('ag-110m'))\n",
    "print(calc_decayheat(117.59*10**-3,249.79*0.00273973,110))"
   ]
  },
  {
   "cell_type": "code",
   "execution_count": 165,
   "metadata": {},
   "outputs": [
    {
     "name": "stdout",
     "output_type": "stream",
     "text": [
      "{952420001: nan}\n",
      "0.00302038578915\n"
     ]
    }
   ],
   "source": [
    "# Am 242m \n",
    "print(test_decayheat('am-242m'))\n",
    "print(calc_decayheat(48.63*10**-3,141,242))"
   ]
  },
  {
   "cell_type": "code",
   "execution_count": 176,
   "metadata": {},
   "outputs": [
    {
     "name": "stdout",
     "output_type": "stream",
     "text": [
      "{400950000: 108.26594950590827}\n",
      "0.142932339102\n"
     ]
    }
   ],
   "source": [
    "# Zr 95 \n",
    "print(test_decayheat('zr-95'))\n",
    "print(calc_decayheat(1124*10**-3,64032*0.00273973,95))"
   ]
  },
  {
   "cell_type": "code",
   "execution_count": null,
   "metadata": {},
   "outputs": [],
   "source": []
  }
 ],
 "metadata": {
  "kernelspec": {
   "display_name": "Python 3",
   "language": "python",
   "name": "python3"
  },
  "language_info": {
   "codemirror_mode": {
    "name": "ipython",
    "version": 3
   },
   "file_extension": ".py",
   "mimetype": "text/x-python",
   "name": "python",
   "nbconvert_exporter": "python",
   "pygments_lexer": "ipython3",
   "version": "3.6.4"
  }
 },
 "nbformat": 4,
 "nbformat_minor": 2
}
