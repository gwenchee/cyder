{
 "cells": [
  {
   "cell_type": "code",
   "execution_count": 42,
   "metadata": {},
   "outputs": [],
   "source": [
    "# import functions\n",
    "import numpy as np \n",
    "from scipy import special as sp\n",
    "from matplotlib import pyplot as plt\n",
    "from sympy import integrate"
   ]
  },
  {
   "cell_type": "code",
   "execution_count": 3,
   "metadata": {},
   "outputs": [],
   "source": [
    "# Constants \n",
    "\n",
    "# Granite \n",
    "k_g = 2.5 #W/m*K\n",
    "a_g = 1.13*10**-6\n",
    "\n",
    "# Length of Canister \n",
    "L = 5 #m \n",
    "# Canister Spacing \n",
    "CS = 10 #m\n",
    "# Drift spacing \n",
    "DS = 20 #m \n",
    "# Length of Drift \n",
    "\n",
    "# Decay heat from 4 BWR assembly (sample)\n",
    "q0 = 4*0.060320*10**3#W "
   ]
  },
  {
   "cell_type": "code",
   "execution_count": 50,
   "metadata": {},
   "outputs": [],
   "source": [
    "r = 10\n",
    "t = 60*60*24*30*12\n",
    "x,y = symbols('x,y')\n",
    "#integrate(1/(t-x)**(3/2)*exp(-r**2/(4*a_g*(t-x))),x)"
   ]
  },
  {
   "cell_type": "code",
   "execution_count": 30,
   "metadata": {},
   "outputs": [],
   "source": [
    "def T_point(q0,k,a,x,t): \n",
    "    r = (x)**2\n",
    "    #print(q0/(4*np.pi*k*r))\n",
    "    #print(sp.erfc(r/(4*a*t)))\n",
    "    T = q0/(4*np.pi*k*r) * sp.erfc(r/(4*a*t))\n",
    "    return T"
   ]
  },
  {
   "cell_type": "code",
   "execution_count": 27,
   "metadata": {},
   "outputs": [
    {
     "name": "stdout",
     "output_type": "stream",
     "text": [
      "0.8448199027226752\n",
      "0.314457534785\n"
     ]
    },
    {
     "data": {
      "text/plain": [
       "0.26565998394708235"
      ]
     },
     "execution_count": 27,
     "metadata": {},
     "output_type": "execute_result"
    }
   ],
   "source": [
    "T_point(q0,k_g,a_g,10,60*60*24*30*12)"
   ]
  },
  {
   "cell_type": "code",
   "execution_count": 39,
   "metadata": {},
   "outputs": [
    {
     "data": {
      "text/plain": [
       "[<matplotlib.lines.Line2D at 0x10fe37978>]"
      ]
     },
     "execution_count": 39,
     "metadata": {},
     "output_type": "execute_result"
    },
    {
     "data": {
      "image/png": "[encoded data removed]",
      "text/plain": [
       "<matplotlib.figure.Figure at 0x10dce05c0>"
      ]
     },
     "metadata": {},
     "output_type": "display_data"
    }
   ],
   "source": [
    "time = np.zeros(100)\n",
    "Tp = np.zeros(100)\n",
    "for i in range(1,100): \n",
    "    t = 60*60*24*30*i\n",
    "    time[i] = i\n",
    "    Tp[i] = T_point(q0,k_g,a_g,10,t)\n",
    "\n",
    "plt.plot(time,Tp)"
   ]
  },
  {
   "cell_type": "code",
   "execution_count": null,
   "metadata": {},
   "outputs": [],
   "source": [
    "def T_line(q0,k,a,x0,y0,x,y,t):\n",
    "    "
   ]
  },
  {
   "cell_type": "markdown",
   "metadata": {},
   "source": [
    "# Sample Scenario \n",
    "One drift is full and trying to calculate temperature of centre most canister \n",
    "10 canisters in a drift \n",
    "In the latest design for "
   ]
  },
  {
   "cell_type": "code",
   "execution_count": 19,
   "metadata": {},
   "outputs": [
    {
     "name": "stdout",
     "output_type": "stream",
     "text": [
      "0.8448199027226752\n",
      "0.0\n"
     ]
    },
    {
     "data": {
      "text/plain": [
       "0.0"
      ]
     },
     "execution_count": 19,
     "metadata": {},
     "output_type": "execute_result"
    }
   ],
   "source": [
    "T_point(q0,k_g,a_g,10,1000)"
   ]
  },
  {
   "cell_type": "code",
   "execution_count": null,
   "metadata": {},
   "outputs": [],
   "source": []
  }
 ],
 "metadata": {
  "kernelspec": {
   "display_name": "Python 3",
   "language": "python",
   "name": "python3"
  },
  "language_info": {
   "codemirror_mode": {
    "name": "ipython",
    "version": 3
   },
   "file_extension": ".py",
   "mimetype": "text/x-python",
   "name": "python",
   "nbconvert_exporter": "python",
   "pygments_lexer": "ipython3",
   "version": "3.6.4"
  }
 },
 "nbformat": 4,
 "nbformat_minor": 2
}
